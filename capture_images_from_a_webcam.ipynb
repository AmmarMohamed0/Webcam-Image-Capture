{
 "cells": [
  {
   "cell_type": "code",
   "execution_count": 6,
   "id": "71ba63cf",
   "metadata": {},
   "outputs": [],
   "source": [
    "import uuid # Unique Identifier\n",
    "import torch\n",
    "import cv2\n",
    "import time \n",
    "import os "
   ]
  },
  {
   "cell_type": "code",
   "execution_count": 13,
   "id": "b463c2be",
   "metadata": {},
   "outputs": [
    {
     "name": "stdout",
     "output_type": "stream",
     "text": [
      "GPU is available.\n",
      "Using GPU: NVIDIA GeForce RTX 2060\n"
     ]
    }
   ],
   "source": [
    "if torch.cuda.is_available():\n",
    "    print(\"GPU is available.\")\n",
    "    # Get the GPU device\n",
    "    device = torch.device(\"cuda\")\n",
    "    # Get the index of the current GPU (if multiple GPUs are available)\n",
    "    gpu_index = torch.cuda.current_device()\n",
    "    print(\"Using GPU:\", torch.cuda.get_device_name(gpu_index))\n",
    "else:\n",
    "    print(\"GPU is not available. Using CPU.\")\n",
    "    device = torch.device(\"cpu\")"
   ]
  },
  {
   "cell_type": "code",
   "execution_count": 16,
   "id": "bcba0aff",
   "metadata": {},
   "outputs": [
    {
     "name": "stdout",
     "output_type": "stream",
     "text": [
      "C:\\Users\\ASUS\\Downloads\\test\n"
     ]
    }
   ],
   "source": [
    "# Set the working directory\n",
    "os.chdir(r'C:/Users/ASUS/Downloads/test')\n",
    "\n",
    "# Define the path for storing images\n",
    "Images_Path = os.path.join(\"data\", \"images\")  # data/images\n",
    "\n",
    "# Create the directory if it doesn't exist\n",
    "os.makedirs(Images_Path, exist_ok=True)\n",
    "\n",
    "labels = ['awake', 'drowsy']\n",
    "number_imgs = 5\n",
    "print(os.getcwd())"
   ]
  },
  {
   "cell_type": "code",
   "execution_count": 17,
   "id": "5c35a196",
   "metadata": {},
   "outputs": [
    {
     "name": "stdout",
     "output_type": "stream",
     "text": [
      "Collecting images for awake\n",
      "Collecting images for awake, image number 0\n",
      "Collecting images for awake, image number 1\n",
      "Collecting images for awake, image number 2\n",
      "Collecting images for awake, image number 3\n",
      "Collecting images for awake, image number 4\n",
      "Collecting images for drowsy\n",
      "Collecting images for drowsy, image number 0\n",
      "Collecting images for drowsy, image number 1\n",
      "Collecting images for drowsy, image number 2\n",
      "Collecting images for drowsy, image number 3\n",
      "Collecting images for drowsy, image number 4\n"
     ]
    }
   ],
   "source": [
    "cap = cv2.VideoCapture(0)\n",
    "# loop through labels\n",
    "for label in labels:\n",
    "    print(f\"Collecting images for {label}\")\n",
    "    time.sleep(5)\n",
    "    # loop though images range\n",
    "    for img_num in range(number_imgs):\n",
    "        print(f\"Collecting images for {label}, image number {img_num}\")\n",
    "        \n",
    "        # Webcam feed\n",
    "        ret, frame = cap.read() # ret = False-> if no frame\n",
    "        \n",
    "        # Naming out images path\n",
    "        img_name = os.path.join(Images_Path, label+'.'+str(uuid.uuid1())+\".jpg\")\n",
    "        \n",
    "        # Writes out image to file, store images\n",
    "        cv2.imwrite(img_name, frame)\n",
    "        \n",
    "        # Render to the screen\n",
    "        cv2.imshow(\"Image Collection\", frame)\n",
    "        \n",
    "        # 3 second delay between capture\n",
    "        time.sleep(3)\n",
    "        \n",
    "        if cv2.waitKey(10)==ord('q'):\n",
    "            break\n",
    "cap.release()\n",
    "cv2.destroyAllWindows()"
   ]
  },
  {
   "cell_type": "code",
   "execution_count": null,
   "id": "16b2b5d9",
   "metadata": {},
   "outputs": [],
   "source": []
  }
 ],
 "metadata": {
  "kernelspec": {
   "display_name": "Python 3 (ipykernel)",
   "language": "python",
   "name": "python3"
  },
  "language_info": {
   "codemirror_mode": {
    "name": "ipython",
    "version": 3
   },
   "file_extension": ".py",
   "mimetype": "text/x-python",
   "name": "python",
   "nbconvert_exporter": "python",
   "pygments_lexer": "ipython3",
   "version": "3.9.13"
  }
 },
 "nbformat": 4,
 "nbformat_minor": 5
}
